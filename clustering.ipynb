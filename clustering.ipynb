{
 "cells": [
  {
   "cell_type": "code",
   "execution_count": 6,
   "metadata": {
    "collapsed": true
   },
   "outputs": [],
   "source": [
    "%matplotlib inline\n",
    "import numpy as np\n",
    "import matplotlib.pyplot as plt\n",
    "from sklearn.cluster import k_means"
   ]
  },
  {
   "cell_type": "code",
   "execution_count": 2,
   "metadata": {
    "collapsed": true
   },
   "outputs": [],
   "source": [
    "x1 = np.random.normal(loc=4.0, scale=0.5, size=100)\n",
    "y1 = np.random.normal(loc=3.0, scale=0.5, size=100)\n",
    "x2 = np.random.normal(loc=1.5, scale=0.7, size=100)\n",
    "y2 = np.random.normal(loc=1.5, scale=0.7, size=100)\n",
    "x3 = np.random.normal(loc=5.0, scale=0.7, size=100)\n",
    "y3 = np.random.normal(loc=1.5, scale=0.7, size=100)\n",
    "\n",
    "x = np.hstack((x1, x2, x3))\n",
    "y = np.hstack((y1, y2, y3))\n",
    "tss = np.sum((x-x.mean())**2 + (y-y.mean())**2)\n",
    "\n",
    "X = np.array(zip(x,y))"
   ]
  },
  {
   "cell_type": "code",
   "execution_count": 9,
   "metadata": {
    "collapsed": false
   },
   "outputs": [
    {
     "name": "stderr",
     "output_type": "stream",
     "text": [
      "/usr/local/lib/python2.7/site-packages/ipykernel/__main__.py:7: RuntimeWarning: invalid value encountered in double_scalars\n"
     ]
    }
   ],
   "source": [
    "k_vals = range(1,11)\n",
    "wss_vals = []\n",
    "ch_vals = []\n",
    "\n",
    "for k in k_vals:\n",
    "    centers, labels, wss = k_means(X, n_clusters=k)\n",
    "    ch = ((tss-wss)/(k-1))/(wss/(X.size-k))\n",
    "    wss_vals.append(wss)\n",
    "    ch_vals.append(ch)"
   ]
  },
  {
   "cell_type": "code",
   "execution_count": 7,
   "metadata": {
    "collapsed": false
   },
   "outputs": [
    {
     "data": {
      "text/plain": [
       "<matplotlib.text.Text at 0x10e2deed0>"
      ]
     },
     "execution_count": 7,
     "metadata": {},
     "output_type": "execute_result"
    },
    {
     "data": {
      "image/png": "[encoded data removed]",
      "text/plain": [
       "<matplotlib.figure.Figure at 0x115646c10>"
      ]
     },
     "metadata": {},
     "output_type": "display_data"
    }
   ],
   "source": [
    "plt.plot(k_vals, wss_vals)\n",
    "plt.xlim(0.5,10.5)\n",
    "plt.xlabel('k')\n",
    "plt.ylabel('WSS')"
   ]
  },
  {
   "cell_type": "code",
   "execution_count": 8,
   "metadata": {
    "collapsed": false
   },
   "outputs": [
    {
     "data": {
      "text/plain": [
       "<matplotlib.text.Text at 0x10ec17290>"
      ]
     },
     "execution_count": 8,
     "metadata": {},
     "output_type": "execute_result"
    },
    {
     "data": {
      "image/png": "[encoded data removed]",
      "text/plain": [
       "<matplotlib.figure.Figure at 0x10ec38a10>"
      ]
     },
     "metadata": {},
     "output_type": "display_data"
    }
   ],
   "source": [
    "plt.plot(k_vals, ch_vals)\n",
    "plt.xlim(0.5,10.5)\n",
    "plt.xlabel('k')\n",
    "plt.ylabel('CH index')"
   ]
  },
  {
   "cell_type": "code",
   "execution_count": null,
   "metadata": {
    "collapsed": true
   },
   "outputs": [],
   "source": []
  }
 ],
 "metadata": {
  "kernelspec": {
   "display_name": "Python 2",
   "language": "python",
   "name": "python2"
  },
  "language_info": {
   "codemirror_mode": {
    "name": "ipython",
    "version": 2
   },
   "file_extension": ".py",
   "mimetype": "text/x-python",
   "name": "python",
   "nbconvert_exporter": "python",
   "pygments_lexer": "ipython2",
   "version": "2.7.9"
  }
 },
 "nbformat": 4,
 "nbformat_minor": 0
}
